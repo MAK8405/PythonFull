{
 "cells": [
  {
   "cell_type": "markdown",
   "id": "1bb085ce",
   "metadata": {},
   "source": [
    "# 💻 Quiz: Early Programming"
   ]
  },
  {
   "cell_type": "markdown",
   "id": "7ff8497b",
   "metadata": {},
   "source": [
    "**1️⃣ Which of the following is considered one of the earliest forms of programming?**\n",
    "\n",
    "a) Punch cards  \n",
    "b) Plug boards  \n",
    "c) Punched paper tape  \n",
    "d) Panel programming  \n",
    "\n",
    "---\n",
    "\n",
    "<details>\n",
    "  <summary>✅ Show Answer</summary>\n",
    "\n",
    "**Answer:** a) **Punch cards**  \n",
    "\n",
    "💡 **Explanation:**  \n",
    "Punch cards, as used in *Joseph Marie Jacquard's programmable textile loom*, were considered one of the earliest forms of programming.\n",
    "The **presence or absence of holes** in the punch cards determined specific actions in the loom, making it a programmable system for creating patterns in textiles.\n",
    "\n",
    "</details>\n"
   ]
  },
  {
   "cell_type": "markdown",
   "id": "f4e8e977",
   "metadata": {},
   "source": [
    "**2️⃣ What was the purpose of Joseph Marie Jacquard's programmable textile loom?**\n",
    "\n",
    "a) To weave patterned fabrics efficiently  \n",
    "b) To create intricate designs on textiles  \n",
    "c) To automate textile manufacturing processes  \n",
    "d) To develop a prototype for early computers  \n",
    "\n",
    "---\n",
    "\n",
    "<details>\n",
    "  <summary>✅ Show Answer</summary>\n",
    "\n",
    "Joseph Marie Jacquard developed a programmable textile loom to weave patterned fabrics more efficiently. The punched cards controlled the loom's actions, allowing for different patterns to be created without manual reconfiguration, making patterned fabrics more accessible and affordable.\n",
    "\n",
    "</details>\n"
   ]
  }
 ],
 "metadata": {
  "language_info": {
   "name": "python"
  }
 },
 "nbformat": 4,
 "nbformat_minor": 5
}
